{
  "cells": [
    {
      "cell_type": "markdown",
      "metadata": {
        "id": "view-in-github",
        "colab_type": "text"
      },
      "source": [
        "<a href=\"https://colab.research.google.com/github/Volandovasvita/python-kurs/blob/main/lekcija%20numbers.ipynb\" target=\"_parent\"><img src=\"https://colab.research.google.com/assets/colab-badge.svg\" alt=\"Open In Colab\"/></a>"
      ]
    },
    {
      "cell_type": "code",
      "execution_count": 1,
      "metadata": {
        "id": "lIYdn1woOS1n",
        "colab": {
          "base_uri": "https://localhost:8080/"
        },
        "outputId": "dd98073e-5d02-4180-8674-6263e385d3d3"
      },
      "outputs": [
        {
          "output_type": "stream",
          "name": "stdout",
          "text": [
            "Cao Voli\n",
            "1\n",
            "2\n",
            "437.5\n",
            "437.5\n",
            "11.0\n",
            "5\n",
            "hello there\n",
            "hello there\n",
            "199.0\n",
            "42.0\n"
          ]
        },
        {
          "output_type": "execute_result",
          "data": {
            "text/plain": [
              "float"
            ]
          },
          "metadata": {},
          "execution_count": 1
        }
      ],
      "source": [
        "print(\"Cao Voli\")\n",
        "x=1\n",
        "print (x)\n",
        "x=x+1\n",
        "print (x)\n",
        "exit()\n",
        "a=35.0\n",
        "b=12.50\n",
        "c=a*b\n",
        "print (c)\n",
        "hours=35\n",
        "rate=12.50\n",
        "pay=hours*rate\n",
        "print (pay)\n",
        "x=1+2**3/4*5\n",
        "print (x)\n",
        "ddd=1+4\n",
        "print (ddd)\n",
        "eee = 'hello ' + 'there'\n",
        "print (eee)\n",
        "eee = (\"hello there\")\n",
        "print (eee)\n",
        "eee= 'hello ' + 'there'\n",
        "type (eee)\n",
        "xx = 1\n",
        "type (xx)\n",
        "print (float (99) + 100)\n",
        "i=42\n",
        "type (i)\n",
        "f = float (i)\n",
        "print (f)\n",
        "type (f)\n",
        "\n",
        "\n",
        "\n",
        "\n",
        "\n"
      ]
    }
  ],
  "metadata": {
    "colab": {
      "name": "scratchpad",
      "provenance": [],
      "include_colab_link": true
    },
    "kernelspec": {
      "display_name": "Python 3",
      "name": "python3"
    }
  },
  "nbformat": 4,
  "nbformat_minor": 0
}