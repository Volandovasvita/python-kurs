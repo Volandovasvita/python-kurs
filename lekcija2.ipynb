{
  "cells": [
    {
      "cell_type": "markdown",
      "metadata": {
        "id": "view-in-github",
        "colab_type": "text"
      },
      "source": [
        "<a href=\"https://colab.research.google.com/github/Volandovasvita/python-kurs/blob/main/lekcija2.ipynb\" target=\"_parent\"><img src=\"https://colab.research.google.com/assets/colab-badge.svg\" alt=\"Open In Colab\"/></a>"
      ]
    },
    {
      "cell_type": "code",
      "execution_count": 1,
      "metadata": {
        "id": "lIYdn1woOS1n",
        "colab": {
          "base_uri": "https://localhost:8080/"
        },
        "outputId": "725a5d25-4901-4e53-aee5-2b982be7163f"
      },
      "outputs": [
        {
          "output_type": "stream",
          "name": "stdout",
          "text": [
            "Cao Voli\n",
            "1\n",
            "2\n",
            "437.5\n",
            "437.5\n"
          ]
        }
      ],
      "source": [
        "print(\"Cao Voli\")\n",
        "x=1\n",
        "print (x)\n",
        "x=x+1\n",
        "print (x)\n",
        "exit()\n",
        "a=35.0\n",
        "b=12.50\n",
        "c=a*b\n",
        "print (c)\n",
        "hours=35\n",
        "rate=12.50\n",
        "pay=hours*rate\n",
        "print (pay)\n",
        "\n",
        "\n",
        "\n",
        "\n"
      ]
    }
  ],
  "metadata": {
    "colab": {
      "name": "scratchpad",
      "provenance": [],
      "include_colab_link": true
    },
    "kernelspec": {
      "display_name": "Python 3",
      "name": "python3"
    }
  },
  "nbformat": 4,
  "nbformat_minor": 0
}