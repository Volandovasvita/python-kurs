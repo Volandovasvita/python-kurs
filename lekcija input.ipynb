{
  "cells": [
    {
      "cell_type": "markdown",
      "metadata": {
        "id": "view-in-github",
        "colab_type": "text"
      },
      "source": [
        "<a href=\"https://colab.research.google.com/github/Volandovasvita/python-kurs/blob/main/lekcija%20input.ipynb\" target=\"_parent\"><img src=\"https://colab.research.google.com/assets/colab-badge.svg\" alt=\"Open In Colab\"/></a>"
      ]
    },
    {
      "cell_type": "code",
      "execution_count": 6,
      "metadata": {
        "id": "lIYdn1woOS1n",
        "colab": {
          "base_uri": "https://localhost:8080/"
        },
        "outputId": "1d550c19-6236-4dcf-ebcb-d5af696c99fc"
      },
      "outputs": [
        {
          "output_type": "stream",
          "name": "stdout",
          "text": [
            "Cao Voli\n",
            "124\n",
            "Who are you? mamam\n",
            "Welcome mamam\n",
            "Europe floor?0\n",
            "US floor 1\n"
          ]
        }
      ],
      "source": [
        "print(\"Cao Voli\")\n",
        "sva1='123'\n",
        "type (sva1)\n",
        "iva1= int (sva1)\n",
        "type (iva1)\n",
        "print (iva1 + 1)\n",
        "nam= input ('Who are you? ')\n",
        "print ('Welcome', nam)\n",
        "inp = input ('Europe floor?')\n",
        "usf = int (inp) + 1\n",
        "print ('US floor', usf)\n",
        "\n",
        "\n",
        "\n",
        "\n",
        "\n",
        "\n",
        "\n",
        "\n"
      ]
    }
  ],
  "metadata": {
    "colab": {
      "name": "scratchpad",
      "provenance": [],
      "include_colab_link": true
    },
    "kernelspec": {
      "display_name": "Python 3",
      "name": "python3"
    }
  },
  "nbformat": 4,
  "nbformat_minor": 0
}